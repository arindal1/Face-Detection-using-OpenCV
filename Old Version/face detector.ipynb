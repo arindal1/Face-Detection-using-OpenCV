{
 "cells": [
  {
   "attachments": {},
   "cell_type": "markdown",
   "metadata": {
    "id": "h4O4QuvzjAv_"
   },
   "source": [
    "# **Face Detection with Python using OpenCV**"
   ]
  },
  {
   "cell_type": "code",
   "execution_count": null,
   "metadata": {
    "id": "tbnyKID1fg9W"
   },
   "outputs": [],
   "source": [
    "import cv2"
   ]
  },
  {
   "cell_type": "code",
   "execution_count": null,
   "metadata": {
    "id": "w9REHTTogj-O"
   },
   "outputs": [],
   "source": [
    "#Using the pre-trained classifier from OpenCV\n",
    "face_cascade = cv2.CascadeClassifier('face_detector.xml') #Load the cascade"
   ]
  },
  {
   "cell_type": "code",
   "execution_count": null,
   "metadata": {
    "id": "CMezMPGth3v_"
   },
   "outputs": [],
   "source": [
    "#Uploading the input image\n",
    "img = cv2.imread('test2.jpg') #Read the input image"
   ]
  },
  {
   "cell_type": "code",
   "execution_count": null,
   "metadata": {
    "id": "RC4Tchhgh6Su"
   },
   "outputs": [],
   "source": [
    "#Performing the detection\n",
    "faces = face_cascade.detectMultiScale(img, 1.1, 4) #Detect faces"
   ]
  },
  {
   "cell_type": "code",
   "execution_count": null,
   "metadata": {
    "id": "sJGqpdxHh8te"
   },
   "outputs": [],
   "source": [
    "#Drawing rectangle around the faces\n",
    "for (x, y, w, h) in faces: \n",
    "  cv2.rectangle(img, (x, y), (x+w, y+h), (255, 0, 0), 2)"
   ]
  },
  {
   "cell_type": "code",
   "execution_count": null,
   "metadata": {
    "colab": {
     "base_uri": "https://localhost:8080/"
    },
    "id": "I7Xj6Tplh-_2",
    "outputId": "e9b801c6-95e6-49a0-bcb8-28806e5c6254"
   },
   "outputs": [
    {
     "name": "stdout",
     "output_type": "stream",
     "text": [
      "Photo successfully exported!\n"
     ]
    }
   ],
   "source": [
    "#Export the result\n",
    "cv2.imwrite(\"face_detected.png\", img) \n",
    "print('Photo successfully exported!')"
   ]
  },
  {
   "attachments": {},
   "cell_type": "markdown",
   "metadata": {
    "id": "5zyBWfTdjj5P"
   },
   "source": [
    "\n",
    "\n",
    "---\n",
    "\n"
   ]
  }
 ],
 "metadata": {
  "accelerator": "GPU",
  "colab": {
   "collapsed_sections": [],
   "name": "Face Detection with Python using OpenCV",
   "provenance": []
  },
  "kernelspec": {
   "display_name": "Python 3",
   "language": "python",
   "name": "python3"
  },
  "language_info": {
   "codemirror_mode": {
    "name": "ipython",
    "version": 3
   },
   "file_extension": ".py",
   "mimetype": "text/x-python",
   "name": "python",
   "nbconvert_exporter": "python",
   "pygments_lexer": "ipython3",
   "version": "3.8.3"
  }
 },
 "nbformat": 4,
 "nbformat_minor": 1
}
